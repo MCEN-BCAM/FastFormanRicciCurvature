{
 "cells": [
  {
   "cell_type": "markdown",
   "id": "03808f6b",
   "metadata": {},
   "source": [
    "# Time performance Benchmark\n",
    "\n",
    "Here, we compare the time processing for computing F.R.C. by using the Python packages *GeneralisedFormanRicci*, *HodgeLaplacians* and *fastforman*.\n",
    "\n",
    "To this purpose, we locally provided specific package versions in whitch those packages were tested:\n",
    "\n",
    "- `GeneralisedFormanRicci:` This code computes the Forman Ricci Curvature for simplicial complex generated from a given point cloud data.\n",
    "    \n",
    "  Last Update: 9 of January 2021. Version: 0.3\n",
    "  \n",
    "  Link: https://github.com/ExpectozJJ/GeneralisedFormanRicci/\n",
    "  \n",
    "  \n",
    "- `HodgeLaplacians:` This package provides an interface for construction of Hodge and Bochner Laplacian matrices from the set of simplices. We use `Gudhi` algorithm for generating the simpleces from point cloud data. Here, we modify the package input so that the computation can be done to restricted simplex dimensions. \n",
    "\n",
    "  Last Update: 2019\n",
    "  \n",
    "  Link: https://github.com/tsitsvero/hodgelaplacians\n",
    "  \n",
    "  \n",
    "# Benchmark Results:\n",
    "\n",
    "We generated point cloud data for comparing the time processing of between the algorithms in the literature. Here, we consider the total time processing - from computing the cliques to computing the FRC. We perform the process in function of the number of points and the distance threshold. To see more a detailed benchmark, visit:\n",
    "https://www.kaggle.com/datasets/danillosouza2020/forman-ricci-curvature-benchmark-report"
   ]
  },
  {
   "cell_type": "markdown",
   "id": "362defe7",
   "metadata": {},
   "source": [
    "Importing packages:"
   ]
  },
  {
   "cell_type": "code",
   "execution_count": 153,
   "id": "ff439e9d",
   "metadata": {
    "scrolled": true
   },
   "outputs": [],
   "source": [
    "from time import time\n",
    "import numpy as np\n",
    "import re\n",
    "import sys\n",
    "import networkx as nx\n",
    "import pandas as pd\n",
    "from itertools import combinations\n",
    "from GeneralisedFormanRicci.frc import GeneralisedFormanRicci\n",
    "from hodgelaplacians import HodgeLaplacians\n",
    "import gudhi as gd\n",
    "from math import dist\n",
    "import fastforman as ff"
   ]
  },
  {
   "cell_type": "markdown",
   "id": "004bde62",
   "metadata": {},
   "source": [
    "Defining function for estimating time processing (in seconds):"
   ]
  },
  {
   "cell_type": "code",
   "execution_count": 149,
   "id": "03f7f269",
   "metadata": {},
   "outputs": [],
   "source": [
    "#Compute cells (cliques) using Gudhi package:\n",
    "def cliques_gudhi(data,f,d=2):\n",
    "   \n",
    "    skeleton = gd.RipsComplex(points = data, max_edge_length = f)\n",
    "    Rips_simplex_tree_sample = skeleton.create_simplex_tree(max_dimension = d)\n",
    "    rips_generator = Rips_simplex_tree_sample.get_filtration()\n",
    "\n",
    "    L=[i[0] for i in rips_generator]\n",
    "\n",
    "    return L\n",
    "\n",
    "\n",
    "def run_GeneralisedFormanRicci(data,r):\n",
    "   \n",
    "    \n",
    "    t0=time()\n",
    "    #Computing simplicial complex:\n",
    "    sc=GeneralisedFormanRicci(data,epsilon=r)\n",
    "    #Computing FRC:\n",
    "    output=sc.compute_forman()\n",
    "    t1=time()\n",
    "    print(\"Total time processing: \"+str(t1-t0)+\" seconds.\")\n",
    "    return t1-t0,output\n",
    "\n",
    "def run_hodge(data,r,d=2):\n",
    "    t0=time()\n",
    "    #Computing simplicial complex\n",
    "    C=cliques_gudhi(data,r,d)\n",
    "        \n",
    "    \n",
    "    \n",
    "    hl=HodgeLaplacians(C, maxdimension=d+1)\n",
    "    F={}\n",
    "    \n",
    "    dims = [i for i in range(1,d+1)]\n",
    "    #Computing FRC for each desired simplex dimension:\n",
    "    for dim in dims:\n",
    "            try:\n",
    "                f=hl.getCombinatorialRicci(dim)\n",
    "                F[dim]=f\n",
    "            \n",
    "              \n",
    "            except:\n",
    "                next\n",
    "    \n",
    "    t1=time()\n",
    "    #   \n",
    "    print(\"Total time processing: \"+str(t1-t0)+\" seconds\")\n",
    "    return t1-t0,F"
   ]
  },
  {
   "cell_type": "code",
   "execution_count": 122,
   "id": "5990198b",
   "metadata": {},
   "outputs": [
    {
     "name": "stdout",
     "output_type": "stream",
     "text": [
      "Total time: 0.021702289581298828 seconds.\n"
     ]
    }
   ],
   "source": [
    "time_GFR,GFR=run_GeneralisedFormanRicci(D,0.2)"
   ]
  },
  {
   "cell_type": "code",
   "execution_count": 132,
   "id": "bc97cccc",
   "metadata": {},
   "outputs": [
    {
     "name": "stdout",
     "output_type": "stream",
     "text": [
      "Total time processing: 0.0057811737060546875 seconds\n"
     ]
    }
   ],
   "source": [
    "time_HL,HFR=run_hodge(D,0.2,2)"
   ]
  },
  {
   "cell_type": "code",
   "execution_count": 145,
   "id": "7af48028",
   "metadata": {},
   "outputs": [
    {
     "data": {
      "text/plain": [
       "2.8333333333333335"
      ]
     },
     "execution_count": 145,
     "metadata": {},
     "output_type": "execute_result"
    }
   ],
   "source": [
    "np.mean(list(GFR[2].values()))"
   ]
  },
  {
   "cell_type": "markdown",
   "id": "69be89a4",
   "metadata": {},
   "source": [
    "Defining function for generating random data for test:"
   ]
  },
  {
   "cell_type": "code",
   "execution_count": 16,
   "id": "1a6d82c8",
   "metadata": {},
   "outputs": [],
   "source": [
    "def graph_from_cloud(data,e=2):\n",
    "    G=nx.Graph()\n",
    "    G.add_nodes_from([i for i in range(len(data))])\n",
    "    counter=0\n",
    "    for pair in data:\n",
    "        G.add_node(counter,pos=(pair[0],pair[1],pair[2]))\n",
    "        counter+=1\n",
    "    pos_dict=nx.get_node_attributes(G,\"pos\")\n",
    "    \n",
    "    for pair in combinations(list(G.nodes()),2):\n",
    "        n,m=pair\n",
    "        X=pos_dict[n]\n",
    "        Y=pos_dict[m]\n",
    "       \n",
    "        d=dist(X,Y)\n",
    "        if d<=e:\n",
    "            G.add_edge(n,m)\n",
    "            G[n][m]['weight']=d\n",
    "    return G"
   ]
  },
  {
   "cell_type": "markdown",
   "id": "da9697d2",
   "metadata": {},
   "source": [
    "Generating 3D point cloud Data, with n=50 nodes and threshold distance r=0.5:"
   ]
  },
  {
   "cell_type": "code",
   "execution_count": 68,
   "id": "b69d8c37",
   "metadata": {},
   "outputs": [],
   "source": [
    "n=70\n",
    "r=0.5\n",
    "D=[np.random.uniform(0,1,3) for i in range(n)]"
   ]
  },
  {
   "cell_type": "markdown",
   "id": "3d5b3e0c",
   "metadata": {},
   "source": [
    "# GeneralisedFormanRicci"
   ]
  },
  {
   "cell_type": "markdown",
   "id": "897f593a",
   "metadata": {},
   "source": [
    "Time for generating simplicial complex:"
   ]
  },
  {
   "cell_type": "code",
   "execution_count": 69,
   "id": "e8006430",
   "metadata": {},
   "outputs": [
    {
     "name": "stdout",
     "output_type": "stream",
     "text": [
      "CPU times: user 8.42 s, sys: 5.07 s, total: 13.5 s\n",
      "Wall time: 2.23 s\n"
     ]
    }
   ],
   "source": [
    "%time sc=GeneralisedFormanRicci(D,epsilon=r)"
   ]
  },
  {
   "cell_type": "markdown",
   "id": "c0667373",
   "metadata": {},
   "source": [
    "Time for computing FRC for edges and triangles:"
   ]
  },
  {
   "cell_type": "code",
   "execution_count": 77,
   "id": "f3353a0f",
   "metadata": {},
   "outputs": [],
   "source": [
    "%%capture captured_output\n",
    "%time frc_generalised=sc.compute_forman()"
   ]
  },
  {
   "cell_type": "markdown",
   "id": "57640102",
   "metadata": {},
   "source": [
    "# HodgeLaplacians"
   ]
  },
  {
   "cell_type": "code",
   "execution_count": null,
   "id": "f480635d",
   "metadata": {},
   "outputs": [],
   "source": []
  },
  {
   "cell_type": "code",
   "execution_count": null,
   "id": "64ae3b13",
   "metadata": {},
   "outputs": [],
   "source": []
  }
 ],
 "metadata": {
  "kernelspec": {
   "display_name": "Python 3 (ipykernel)",
   "language": "python",
   "name": "python3"
  },
  "language_info": {
   "codemirror_mode": {
    "name": "ipython",
    "version": 3
   },
   "file_extension": ".py",
   "mimetype": "text/x-python",
   "name": "python",
   "nbconvert_exporter": "python",
   "pygments_lexer": "ipython3",
   "version": "3.9.7"
  }
 },
 "nbformat": 4,
 "nbformat_minor": 5
}
