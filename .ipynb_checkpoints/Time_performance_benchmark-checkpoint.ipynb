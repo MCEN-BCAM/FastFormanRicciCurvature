{
 "cells": [
  {
   "cell_type": "markdown",
   "id": "03808f6b",
   "metadata": {},
   "source": [
    "# FastForman algorithm \n",
    "\n",
    "## Installation:\n",
    "\n",
    " 1. Copy and paste the content of the folder `fastforman` (i.e., the files `fastforman.pyx` and `compiler.py`) to the same directory it is intended to be installed;\n",
    " 2. Run the command:\n",
    " \n",
    " ```python3 compiler.py build_ext -- inplace```\n",
    " 3. After successfull compilation, the user is able to import `fastforman` as a package, for instance,\n",
    " ```python\n",
    "\n",
    " import fastforman as ff\n",
    "    ```\n",
    "  \n",
    "\n",
    "# Time performance Benchmark\n",
    "\n",
    "Here, we compare the time processing for computing F.R.C. by using the Python packages *GeneralisedFormanRicci*, *HodgeLaplacians* and *fastforman*.\n",
    "\n",
    "To this purpose, we locally provided specific package versions in whitch those packages were tested:\n",
    "\n",
    "- `GeneralisedFormanRicci:` This code computes the Forman Ricci Curvature for simplicial complex generated from a given point cloud data.\n",
    "    \n",
    "  Last Update: 9 of January 2021. Version: 0.3\n",
    "  \n",
    "  Link: https://github.com/ExpectozJJ/GeneralisedFormanRicci/\n",
    "  \n",
    "  \n",
    "- `HodgeLaplacians:` This package provides an interface for construction of Hodge and Bochner Laplacian matrices from the set of simplices. We use `Gudhi` algorithm for generating the simpleces from point cloud data. Here, we modify the package input so that the computation can be done to restricted simplex dimensions. \n",
    "\n",
    "  Last Update: 2019\n",
    "  \n",
    "  Link: https://github.com/tsitsvero/hodgelaplacians\n",
    "  \n",
    "  \n",
    "# Benchmark Results:\n",
    "\n",
    "We generated point cloud data for comparing the time processing of between the algorithms in the literature. Here, we consider the total time processing - from computing the cliques to computing the FRC. We perform the process in function of the number of points and the distance threshold. To see more a detailed benchmark, visit:\n",
    "https://www.kaggle.com/datasets/danillosouza2020/forman-ricci-curvature-benchmark-report"
   ]
  },
  {
   "cell_type": "markdown",
   "id": "044fbdd2",
   "metadata": {},
   "source": [
    "Importing packages:"
   ]
  },
  {
   "cell_type": "code",
   "execution_count": 8,
   "id": "075b97ef",
   "metadata": {
    "scrolled": true
   },
   "outputs": [],
   "source": [
    "from time import time\n",
    "import numpy as np\n",
    "import re\n",
    "import sys\n",
    "import networkx as nx\n",
    "import pandas as pd\n",
    "import matplotlib.pyplot as plt\n",
    "from itertools import combinations\n",
    "from GeneralisedFormanRicci.frc import GeneralisedFormanRicci\n",
    "from hodgelaplacians import HodgeLaplacians\n",
    "import gudhi as gd\n",
    "from math import dist\n",
    "import fastforman as ff"
   ]
  },
  {
   "cell_type": "markdown",
   "id": "1c1f3729",
   "metadata": {},
   "source": [
    "Defining function for generating random data for test:"
   ]
  },
  {
   "cell_type": "code",
   "execution_count": null,
   "id": "335c448e",
   "metadata": {},
   "outputs": [],
   "source": [
    "def graph_from_cloud(data,e=2):\n",
    "    G=nx.Graph()\n",
    "    G.add_nodes_from([i for i in range(len(data))])\n",
    "    counter=0\n",
    "    for pair in data:\n",
    "        G.add_node(counter,pos=(pair[0],pair[1],pair[2]))\n",
    "        counter+=1\n",
    "    pos_dict=nx.get_node_attributes(G,\"pos\")\n",
    "    \n",
    "    for pair in combinations(list(G.nodes()),2):\n",
    "        n,m=pair\n",
    "        X=pos_dict[n]\n",
    "        Y=pos_dict[m]\n",
    "       \n",
    "        d=dist(X,Y)\n",
    "        if d<=e:\n",
    "            G.add_edge(n,m)\n",
    "            G[n][m]['weight']=d\n",
    "    return G"
   ]
  },
  {
   "cell_type": "code",
   "execution_count": 9,
   "id": "d76e98b9",
   "metadata": {},
   "outputs": [],
   "source": [
    "#Compute cells (cliques) using Gudhi package:\n",
    "def cliques_gudhi(data,f,d=2):\n",
    "   \n",
    "    skeleton = gd.RipsComplex(points = data, max_edge_length = f)\n",
    "    Rips_simplex_tree_sample = skeleton.create_simplex_tree(max_dimension = d)\n",
    "    rips_generator = Rips_simplex_tree_sample.get_filtration()\n",
    "\n",
    "    L=[i[0] for i in rips_generator]\n",
    "\n",
    "    return L\n",
    "\n",
    "\n",
    "def run_GeneralisedFormanRicci(data,r):\n",
    "   \n",
    "    \n",
    "    t0=time()\n",
    "    #Computing simplicial complex:\n",
    "    sc=GeneralisedFormanRicci(data,epsilon=r)\n",
    "    #Computing FRC:\n",
    "    output=sc.compute_forman()\n",
    "    t1=time()\n",
    "    print(\"Total time processing: \"+str(t1-t0)+\" seconds.\")\n",
    "    return t1-t0,output\n",
    "\n",
    "def run_hodge(data,r,d=2):\n",
    "    t0=time()\n",
    "    #Computing simplicial complex\n",
    "    C=cliques_gudhi(data,r,d)\n",
    "        \n",
    "    \n",
    "    \n",
    "    hl=HodgeLaplacians(C, maxdimension=d+1)\n",
    "    F={}\n",
    "    \n",
    "    dims = [i for i in range(1,d+1)]\n",
    "    #Computing FRC for each desired simplex dimension:\n",
    "    for dim in dims:\n",
    "            try:\n",
    "                f=hl.getCombinatorialRicci(dim)\n",
    "                F[dim]=f\n",
    "            \n",
    "              \n",
    "            except:\n",
    "                next\n",
    "    \n",
    "    t1=time()\n",
    "    #   \n",
    "    print(\"Total time processing: \"+str(t1-t0)+\" seconds\")\n",
    "    return t1-t0,F\n",
    "\n",
    "def run_fastforman(data,f,d=2):\n",
    "    #Computing list of simplicial complexes\n",
    "    L=[i for i in cliques_gudhi(data,f,d) if len(i)>=2]\n",
    "   \n",
    "    #Generating network\n",
    "    G=graph_from_cloud(data,f)\n",
    "    \n",
    "    t0=time()\n",
    "    #Computing FRC:\n",
    "    F=ff.compute_FRC(G,d)\n",
    "    \n",
    "          \n",
    "    t1=time()\n",
    "    print(\"Total time processing: \"+str(t1-t0)+\" seconds\")\n",
    "    return t1-t0,F\n"
   ]
  },
  {
   "cell_type": "code",
   "execution_count": 73,
   "id": "ccc22e18",
   "metadata": {},
   "outputs": [],
   "source": [
    "def run_fastforman(data,f,d=2):\n",
    "    \n",
    "    #Computing the simplices up to the fixed dimension:\n",
    "    L=[i for i in cliques_gudhi(data,f,d) if len(i)>=2]\n",
    "   \n",
    "    #Generating graph from provided data adn threshold:\n",
    "    G=graph_from_cloud(data,f)\n",
    "    Neigh={n:set(nx.neighbors(G,n)) for n in G.nodes()}\n",
    "    \n",
    "    t0=time()\n",
    "    F=ff.fastforman(L,Neigh)\n",
    "    f={dim:{} for dim in range(1,d+1)}\n",
    "    for c in F.keys():\n",
    "    \n",
    "        f[len(c)-1][c]=F[c]\n",
    "    \n",
    "          \n",
    "    t1=time()\n",
    "    print(\"Total time processing: \"+str(t1-t0)+\" seconds\")\n",
    "    return t1-t0,f\n"
   ]
  },
  {
   "cell_type": "markdown",
   "id": "ca748093",
   "metadata": {},
   "source": [
    "Generating 3D point cloud Data, with n=100 nodes and threshold distance r=0.3:"
   ]
  },
  {
   "cell_type": "code",
   "execution_count": 149,
   "id": "1173bf6c",
   "metadata": {},
   "outputs": [],
   "source": [
    "n=100\n",
    "r=0.3\n",
    "D=[np.random.uniform(0,1,3) for i in range(n)]"
   ]
  },
  {
   "cell_type": "markdown",
   "id": "87ddfa19",
   "metadata": {},
   "source": [
    " # FRC computation (max_dim=2):"
   ]
  },
  {
   "cell_type": "code",
   "execution_count": 150,
   "id": "243f8fd7",
   "metadata": {},
   "outputs": [],
   "source": [
    "dmax=2"
   ]
  },
  {
   "cell_type": "markdown",
   "id": "36b6d916",
   "metadata": {},
   "source": [
    "- ## GeneralisedFormanRicci"
   ]
  },
  {
   "cell_type": "code",
   "execution_count": 151,
   "id": "4603c5e1",
   "metadata": {},
   "outputs": [
    {
     "name": "stdout",
     "output_type": "stream",
     "text": [
      "Total time processing: 1.015489101409912 seconds.\n"
     ]
    }
   ],
   "source": [
    "time_GFR,GFR=run_GeneralisedFormanRicci(D,r)"
   ]
  },
  {
   "cell_type": "code",
   "execution_count": 152,
   "id": "fcdd34f2",
   "metadata": {},
   "outputs": [
    {
     "name": "stdout",
     "output_type": "stream",
     "text": [
      "Average 1-FRC:  -1.2537688442211055\n",
      "Average 2-FRC:  2.270998415213946\n"
     ]
    }
   ],
   "source": [
    "for d in [1,2]:\n",
    "    print(\"Average \"+str(d)+\"-FRC: \",np.mean(list(GFR[d].values())))"
   ]
  },
  {
   "cell_type": "markdown",
   "id": "c2d7797d",
   "metadata": {},
   "source": [
    "- ## HodgeLaplacians"
   ]
  },
  {
   "cell_type": "code",
   "execution_count": 153,
   "id": "83e024ef",
   "metadata": {},
   "outputs": [
    {
     "name": "stdout",
     "output_type": "stream",
     "text": [
      "Total time processing: 0.049314022064208984 seconds\n"
     ]
    }
   ],
   "source": [
    "time_HL,HFR=run_hodge(D,r,2)"
   ]
  },
  {
   "cell_type": "code",
   "execution_count": 154,
   "id": "5a4be40d",
   "metadata": {},
   "outputs": [
    {
     "name": "stdout",
     "output_type": "stream",
     "text": [
      "Average 1-FRC:  -1.2537688442211055\n",
      "Average 2-FRC:  -13.095087163232964\n"
     ]
    }
   ],
   "source": [
    "for d in [1,2]:\n",
    "    print(\"Average \"+str(d)+\"-FRC: \",HFR[d].mean())"
   ]
  },
  {
   "cell_type": "markdown",
   "id": "69f500c9",
   "metadata": {},
   "source": [
    "- ## FastForman"
   ]
  },
  {
   "cell_type": "code",
   "execution_count": 155,
   "id": "45eb60df",
   "metadata": {},
   "outputs": [
    {
     "name": "stdout",
     "output_type": "stream",
     "text": [
      "Total time processing: 0.003975868225097656 seconds\n"
     ]
    }
   ],
   "source": [
    "time_FF,FFR=run_fastforman(D,r,2)"
   ]
  },
  {
   "cell_type": "code",
   "execution_count": 156,
   "id": "e7096513",
   "metadata": {
    "scrolled": true
   },
   "outputs": [
    {
     "name": "stdout",
     "output_type": "stream",
     "text": [
      "Average 1-FRC:  -1.2537688442211055\n",
      "Average 2-FRC:  2.270998415213946\n"
     ]
    }
   ],
   "source": [
    "for d in [1,2]:\n",
    "    print(\"Average \"+str(d)+\"-FRC: \",np.mean(list(FFR[d].values())))"
   ]
  },
  {
   "cell_type": "markdown",
   "id": "825045a9",
   "metadata": {},
   "source": [
    "### Benchmark Result (d_max=2):"
   ]
  },
  {
   "cell_type": "code",
   "execution_count": 157,
   "id": "d61b5f0e",
   "metadata": {},
   "outputs": [
    {
     "data": {
      "text/plain": [
       "(array([0. , 0.2, 0.4, 0.6, 0.8, 1. , 1.2]),\n",
       " [Text(0, 0, ''),\n",
       "  Text(0, 0, ''),\n",
       "  Text(0, 0, ''),\n",
       "  Text(0, 0, ''),\n",
       "  Text(0, 0, ''),\n",
       "  Text(0, 0, ''),\n",
       "  Text(0, 0, '')])"
      ]
     },
     "execution_count": 157,
     "metadata": {},
     "output_type": "execute_result"
    },
    {
     "data": {
      "image/png": "[encoded data removed]",
      "text/plain": [
       "<Figure size 864x576 with 1 Axes>"
      ]
     },
     "metadata": {
      "needs_background": "light"
     },
     "output_type": "display_data"
    }
   ],
   "source": [
    "Vals=[time_GFR,time_HL,time_FF]\n",
    "Algs=[\"GeneralisedFormanRicci\",\"Hodgelaplacians\",\"FastForman\"]\n",
    "Colors=[\"blue\",\"green\",\"crimson\"]\n",
    "plt.figure(figsize=(12,8))\n",
    "plt.title(\"Benchmark comparison - F.R.C. computation \\n (n=\"+str(n)+\", \"+r\"$d_{max}$= \"+str(dmax)+\" ,max. dist.: \"+str(r)+\")\",fontsize=20)\n",
    "plt.bar(Algs,Vals,color=Colors)\n",
    "plt.xlabel(\"Algorithm\",fontsize=15)\n",
    "plt.ylabel(\"Total time (seconds)\",fontsize=15)\n",
    "plt.xticks(fontsize=12)\n",
    "plt.yticks(fontsize=12)"
   ]
  },
  {
   "cell_type": "markdown",
   "id": "7cb1b0b0",
   "metadata": {},
   "source": [
    "# FRC computation (max_dim=5):"
   ]
  },
  {
   "cell_type": "code",
   "execution_count": 113,
   "id": "f17b55f7",
   "metadata": {},
   "outputs": [],
   "source": [
    "dmax=5"
   ]
  },
  {
   "cell_type": "markdown",
   "id": "36427e19",
   "metadata": {},
   "source": [
    "- ## HodgeLaplacians"
   ]
  },
  {
   "cell_type": "code",
   "execution_count": 114,
   "id": "ddb2cb05",
   "metadata": {},
   "outputs": [
    {
     "name": "stderr",
     "output_type": "stream",
     "text": [
      "/home/danillo/Documents/Github_Linux/MCEN_FastFormanRicciCurvature/FastFormanRicciCurvature/hodgelaplacians/hodgelaplacians.py:27: UserWarning: Maximal simplex in the collection has size 6. \n",
      " maxdimension is set to 5\n",
      "  warn(f\"Maximal simplex in the collection has size {max_simplex_size}. \\n maxdimension is set to {max_simplex_size-1}\")\n"
     ]
    },
    {
     "name": "stdout",
     "output_type": "stream",
     "text": [
      "Total time processing: 1.969926118850708 seconds\n"
     ]
    }
   ],
   "source": [
    "time_HL,HFR=run_hodge(D,r,dmax)"
   ]
  },
  {
   "cell_type": "code",
   "execution_count": 118,
   "id": "581e791d",
   "metadata": {},
   "outputs": [
    {
     "name": "stdout",
     "output_type": "stream",
     "text": [
      "Average 1-FRC:  -3.641421947449768\n",
      "Average 2-FRC:  1.0790546047269765\n",
      "Average 3-FRC:  3.348691917219836\n",
      "Average 4-FRC:  4.831988041853513\n",
      "Average 5-FRC:  -23.235364806866954\n"
     ]
    }
   ],
   "source": [
    "for d in HFR.keys():\n",
    "    print(\"Average \"+str(d)+\"-FRC: \",(HFR[d].mean()))"
   ]
  },
  {
   "cell_type": "markdown",
   "id": "6751288f",
   "metadata": {},
   "source": [
    "- ## FastForman"
   ]
  },
  {
   "cell_type": "code",
   "execution_count": 125,
   "id": "28d60443",
   "metadata": {},
   "outputs": [
    {
     "name": "stdout",
     "output_type": "stream",
     "text": [
      "Total time processing: 0.2702515125274658 seconds\n"
     ]
    }
   ],
   "source": [
    "time_FF,FFR=run_fastforman(D,r,dmax)"
   ]
  },
  {
   "cell_type": "code",
   "execution_count": 126,
   "id": "544401f7",
   "metadata": {},
   "outputs": [
    {
     "name": "stdout",
     "output_type": "stream",
     "text": [
      "Average 1-FRC:  -3.641421947449768\n",
      "Average 2-FRC:  1.0790546047269765\n",
      "Average 3-FRC:  3.348691917219836\n",
      "Average 4-FRC:  4.831988041853513\n",
      "Average 5-FRC:  5.9375107296137335\n"
     ]
    }
   ],
   "source": [
    "for d in FFR.keys():\n",
    "    print(\"Average \"+str(d)+\"-FRC: \",np.mean(list(FFR[d].values())))"
   ]
  },
  {
   "cell_type": "code",
   "execution_count": 127,
   "id": "33cf4a07",
   "metadata": {},
   "outputs": [
    {
     "data": {
      "text/plain": [
       "(array([0.  , 0.25, 0.5 , 0.75, 1.  , 1.25, 1.5 , 1.75, 2.  , 2.25]),\n",
       " [Text(0, 0, ''),\n",
       "  Text(0, 0, ''),\n",
       "  Text(0, 0, ''),\n",
       "  Text(0, 0, ''),\n",
       "  Text(0, 0, ''),\n",
       "  Text(0, 0, ''),\n",
       "  Text(0, 0, ''),\n",
       "  Text(0, 0, ''),\n",
       "  Text(0, 0, ''),\n",
       "  Text(0, 0, '')])"
      ]
     },
     "execution_count": 127,
     "metadata": {},
     "output_type": "execute_result"
    },
    {
     "data": {
      "image/png": "[encoded data removed]",
      "text/plain": [
       "<Figure size 864x576 with 1 Axes>"
      ]
     },
     "metadata": {
      "needs_background": "light"
     },
     "output_type": "display_data"
    }
   ],
   "source": [
    "Vals=[time_HL,time_FF]\n",
    "Algs=[\"Hodgelaplacians\",\"FastForman\"]\n",
    "Colors=[\"green\",\"crimson\"]\n",
    "plt.figure(figsize=(12,8))\n",
    "plt.title(\"Benchmark comparison - F.R.C. computation \\n (n=\"+str(n)+\", \"+r\"$d_{max}$= \"+str(dmax)+\" ,max. dist.: \"+str(r)+\")\",fontsize=20)\n",
    "plt.bar(Algs,Vals,color=Colors)\n",
    "plt.xlabel(\"Algorithm\",fontsize=15)\n",
    "plt.ylabel(\"Total time (seconds)\",fontsize=15)\n",
    "plt.xticks(fontsize=12)\n",
    "plt.yticks(fontsize=12)"
   ]
  },
  {
   "cell_type": "markdown",
   "id": "3b868cc7",
   "metadata": {},
   "source": [
    "# Conclusion:\n",
    "\n",
    "- We compared the performance computation of F.R.C. in splicial complexes by using three Python implementations: `GeneralisedFormanRicci`, `HodgeLaplacians` and `Fastforman`. Fastforman supercedes the perfrmance of the other algorithms;\n",
    "\n",
    "\n",
    "- Due to adaptations on the code of`HodgeLaplacians` for thesholding the maximum simplex dimension, a miscomputation is reported. This is caused due to an issue on computing Hodge Laplacian operators.\n",
    "\n",
    "- We believe that our devolpments facilitates the computiation of FRC for big data."
   ]
  },
  {
   "cell_type": "code",
   "execution_count": null,
   "id": "8977abd4",
   "metadata": {},
   "outputs": [],
   "source": []
  }
 ],
 "metadata": {
  "kernelspec": {
   "display_name": "Python 3 (ipykernel)",
   "language": "python",
   "name": "python3"
  },
  "language_info": {
   "codemirror_mode": {
    "name": "ipython",
    "version": 3
   },
   "file_extension": ".py",
   "mimetype": "text/x-python",
   "name": "python",
   "nbconvert_exporter": "python",
   "pygments_lexer": "ipython3",
   "version": "3.9.7"
  }
 },
 "nbformat": 4,
 "nbformat_minor": 5
}
